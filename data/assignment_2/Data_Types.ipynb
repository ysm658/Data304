{
 "cells": [
  {
   "cell_type": "code",
   "execution_count": 73,
   "id": "dafbb39e-fff7-4183-a0eb-8b966e8f4216",
   "metadata": {},
   "outputs": [
    {
     "name": "stdout",
     "output_type": "stream",
     "text": [
      "Sometimes, life surprises us with unexpected adventures. On sunny days, people often stroll through parks, chatting joyfully. However, when it rains, umbrellas bloom like colorful mushrooms. At noon, cafés fill with the aroma of coffee! Cats often nap lazily on windowsills, yet indifferent to the world outside. Meanwhile, students, lost in thought, scribble notes quickly. Between classes, laughter echoes in hallways. Words carry weight, but silence speaks volumes. Happiness is found in small, everyday moments. Bright stars dot the night sky, whispering secrets to those who listen closely.\n"
     ]
    }
   ],
   "source": [
    "import pandas as pd\n",
    "with open(\"paragraph.txt\", \"r\") as file:\n",
    "    text = file.read()\n",
    "print(text)\n"
   ]
  },
  {
   "cell_type": "code",
   "execution_count": 75,
   "id": "db73fb49-702f-422f-8a97-f3a7dbadb79e",
   "metadata": {},
   "outputs": [
    {
     "data": {
      "text/plain": [
       "['Sometimes, life surprises us with unexpected adventures.',\n",
       " 'On sunny days, people often stroll through parks, chatting joyfully.',\n",
       " 'However, when it rains, umbrellas bloom like colorful mushrooms.',\n",
       " 'At noon, cafés fill with the aroma of coffee!',\n",
       " 'Cats often nap lazily on windowsills, yet indifferent to the world outside.',\n",
       " 'Meanwhile, students, lost in thought, scribble notes quickly.',\n",
       " 'Between classes, laughter echoes in hallways.',\n",
       " 'Words carry weight, but silence speaks volumes.',\n",
       " 'Happiness is found in small, everyday moments.',\n",
       " 'Bright stars dot the night sky, whispering secrets to those who listen closely.']"
      ]
     },
     "execution_count": 75,
     "metadata": {},
     "output_type": "execute_result"
    }
   ],
   "source": [
    "import re\n",
    "sentences = re.split(r'(?<=[.!?]) +', text)\n",
    "sentences #10 Sentences"
   ]
  },
  {
   "cell_type": "code",
   "execution_count": 77,
   "id": "6d6cf117-071a-4770-a317-348074e7d06a",
   "metadata": {
    "scrolled": true
   },
   "outputs": [
    {
     "data": {
      "text/html": [
       "<div>\n",
       "<style scoped>\n",
       "    .dataframe tbody tr th:only-of-type {\n",
       "        vertical-align: middle;\n",
       "    }\n",
       "\n",
       "    .dataframe tbody tr th {\n",
       "        vertical-align: top;\n",
       "    }\n",
       "\n",
       "    .dataframe thead th {\n",
       "        text-align: right;\n",
       "    }\n",
       "</style>\n",
       "<table border=\"1\" class=\"dataframe\">\n",
       "  <thead>\n",
       "    <tr style=\"text-align: right;\">\n",
       "      <th></th>\n",
       "      <th>Words</th>\n",
       "    </tr>\n",
       "  </thead>\n",
       "  <tbody>\n",
       "    <tr>\n",
       "      <th>0</th>\n",
       "      <td>Sometimes</td>\n",
       "    </tr>\n",
       "    <tr>\n",
       "      <th>1</th>\n",
       "      <td>life</td>\n",
       "    </tr>\n",
       "    <tr>\n",
       "      <th>2</th>\n",
       "      <td>surprises</td>\n",
       "    </tr>\n",
       "    <tr>\n",
       "      <th>3</th>\n",
       "      <td>us</td>\n",
       "    </tr>\n",
       "    <tr>\n",
       "      <th>4</th>\n",
       "      <td>with</td>\n",
       "    </tr>\n",
       "    <tr>\n",
       "      <th>...</th>\n",
       "      <td>...</td>\n",
       "    </tr>\n",
       "    <tr>\n",
       "      <th>83</th>\n",
       "      <td>to</td>\n",
       "    </tr>\n",
       "    <tr>\n",
       "      <th>84</th>\n",
       "      <td>those</td>\n",
       "    </tr>\n",
       "    <tr>\n",
       "      <th>85</th>\n",
       "      <td>who</td>\n",
       "    </tr>\n",
       "    <tr>\n",
       "      <th>86</th>\n",
       "      <td>listen</td>\n",
       "    </tr>\n",
       "    <tr>\n",
       "      <th>87</th>\n",
       "      <td>closely</td>\n",
       "    </tr>\n",
       "  </tbody>\n",
       "</table>\n",
       "<p>88 rows × 1 columns</p>\n",
       "</div>"
      ],
      "text/plain": [
       "        Words\n",
       "0   Sometimes\n",
       "1        life\n",
       "2   surprises\n",
       "3          us\n",
       "4        with\n",
       "..        ...\n",
       "83         to\n",
       "84      those\n",
       "85        who\n",
       "86     listen\n",
       "87    closely\n",
       "\n",
       "[88 rows x 1 columns]"
      ]
     },
     "execution_count": 77,
     "metadata": {},
     "output_type": "execute_result"
    }
   ],
   "source": [
    "list = re.findall(r'\\b\\w+\\b', text)\n",
    "words = pd.DataFrame(words, columns=['Words'])\n",
    "words #88 words"
   ]
  },
  {
   "cell_type": "code",
   "execution_count": 79,
   "id": "c506b62f-91d1-448d-a8e1-1f5bd172c3a9",
   "metadata": {},
   "outputs": [
    {
     "data": {
      "text/plain": [
       "'hAppyCAts'"
      ]
     },
     "execution_count": 79,
     "metadata": {},
     "output_type": "execute_result"
    }
   ],
   "source": [
    "set = df.iloc[[60,26,10,10,41,35,26,44,48]]\n",
    "set\n",
    "hidden_message = \"\".join(set[\"Words\"].apply(lambda x: x[0]))\n",
    "hidden_message #hAppyCAts"
   ]
  }
 ],
 "metadata": {
  "kernelspec": {
   "display_name": "Python [conda env:base] *",
   "language": "python",
   "name": "conda-base-py"
  },
  "language_info": {
   "codemirror_mode": {
    "name": "ipython",
    "version": 3
   },
   "file_extension": ".py",
   "mimetype": "text/x-python",
   "name": "python",
   "nbconvert_exporter": "python",
   "pygments_lexer": "ipython3",
   "version": "3.11.5"
  }
 },
 "nbformat": 4,
 "nbformat_minor": 5
}
